{
 "cells": [
  {
   "cell_type": "markdown",
   "metadata": {},
   "source": [
    "This run has higher dropout, larger size lstm.\n",
    "\n",
    "This run has validation accuracy around 70%+\n",
    "\n",
    "From results shown, high dropout does contribute to regularization. Compared to the first run, validation accuracy doesn't improve, however the training history is less oscillatory."
   ]
  },
  {
   "cell_type": "code",
   "execution_count": 39,
   "metadata": {},
   "outputs": [],
   "source": [
    "from keras.models import Sequential\n",
    "from keras.layers import LSTM, Dense, Dropout, BatchNormalization\n",
    "from keras.layers import Conv1D, MaxPooling1D, Activation, Flatten\n",
    "from keras.utils import to_categorical\n",
    "import numpy as np\n",
    "import h5py\n",
    "import matplotlib.pyplot as plt\n",
    "from data_utils import get_data\n",
    "from sklearn import preprocessing\n"
   ]
  },
  {
   "cell_type": "code",
   "execution_count": 40,
   "metadata": {
    "scrolled": true
   },
   "outputs": [
    {
     "name": "stdout",
     "output_type": "stream",
     "text": [
      "X_train: (2358, 1000, 22) \n",
      "y_train: (2358,) \n",
      "X_val: (100, 1000, 22) \n",
      "y_val: (100,) \n",
      "X_test: (100, 1000, 22) \n",
      "y_test: (100,) \n"
     ]
    }
   ],
   "source": [
    "# Load data from all .mat files, combine them, eliminate EOG signals, shuffle and \n",
    "# seperate training data, validation data and testing data.\n",
    "# Also do mean subtraction on x.\n",
    "\n",
    "data = get_data('../project_datasets',num_validation=100, num_test=100, subtract_mean=True, subtract_axis=1,\n",
    "                transpose=True)\n",
    "for k in data.keys():\n",
    "    print('{}: {} '.format(k, data[k].shape))"
   ]
  },
  {
   "cell_type": "code",
   "execution_count": 41,
   "metadata": {},
   "outputs": [],
   "source": [
    "num_classes = 4\n",
    "\n",
    "# substract data from list\n",
    "X_train = data.get('X_train')\n",
    "y_train = data.get('y_train')\n",
    "X_val = data.get('X_val')\n",
    "y_val = data.get('y_val')\n",
    "X_test = data.get('X_test')\n",
    "y_test = data.get('y_test')\n",
    "\n",
    "# get data dimension\n",
    "N_train, T_train, C_train = data.get('X_train').shape\n",
    "N_val, T_val, C_val = data.get('X_val').shape\n",
    "N_test, T_test, C_test = data.get('X_test').shape\n",
    "\n",
    "# add dummy zeros for y classification, convert class vectors to binary class matrices.\n",
    "y_train = to_categorical(y_train, num_classes)\n",
    "y_val = to_categorical(y_val, num_classes)\n",
    "y_test = to_categorical(y_test, num_classes)"
   ]
  },
  {
   "cell_type": "code",
   "execution_count": 42,
   "metadata": {},
   "outputs": [
    {
     "name": "stdout",
     "output_type": "stream",
     "text": [
      "X_train:  (2358, 1000, 22)\n",
      "y_train:  (2358, 4)\n",
      "X_val:  (100, 1000, 22)\n",
      "y_val:  (100, 4)\n",
      "X_test:  (100, 1000, 22)\n",
      "y_test:  (100, 4)\n"
     ]
    }
   ],
   "source": [
    "# construct X_total and y_total based on sub-sampling of X_train and y_train\n",
    "\n",
    "# take sub-sampling on the time sequence to reduce dimension for RNN\n",
    "sampling = 1\n",
    "\n",
    "X_train = X_train.reshape(N_train,int(T_train/sampling), sampling, C_train)[:,:,0,:]\n",
    "X_val = X_val.reshape(N_val,int(T_val/sampling), sampling, C_val)[:,:,0,:]\n",
    "X_test = X_test.reshape(N_test,int(T_test/sampling), sampling, C_test)[:,:,0,:]\n",
    "\n",
    "# get new data dimension\n",
    "N_train, T_train, C_train = X_train.shape\n",
    "N_val, T_val, C_val = X_val.shape\n",
    "N_test, T_test, C_test = X_test.shape\n",
    "\n",
    "print('X_train: ', X_train.shape)\n",
    "print('y_train: ', y_train.shape)\n",
    "print('X_val: ', X_val.shape)\n",
    "print('y_val: ', y_val.shape)\n",
    "print('X_test: ', X_test.shape)\n",
    "print('y_test: ', y_test.shape)"
   ]
  },
  {
   "cell_type": "code",
   "execution_count": 43,
   "metadata": {},
   "outputs": [],
   "source": [
    "# Expected input batch shape: (batch_size, timesteps, data_dim)\n",
    "# Note that we have to provide the full batch_input_shape since the network is stateful.\n",
    "# the sample of index i in batch k is the follow-up for the sample i in batch k-1.\n",
    "\n",
    "# perhaps should try masking layer\n",
    "\n",
    "data_dim = C_train\n",
    "timesteps = T_train\n",
    "batch_size = 100\n",
    "num_epoch = 100\n",
    "\n",
    "# make a sequential model\n",
    "model = Sequential()\n",
    "\n",
    "# add 1-layer cnn\n",
    "model.add(Conv1D(40, kernel_size=20, strides=4,\n",
    "          input_shape=(timesteps, data_dim)))\n",
    "model.add(Activation('relu'))\n",
    "model.add(Dropout(0.5))\n",
    "model.add(BatchNormalization())\n",
    "model.add(MaxPooling1D(pool_size=4, strides=4))\n",
    "\n",
    "\n",
    "# add 2-layer lstm\n",
    "model.add(LSTM(30, return_sequences=True, stateful=False))\n",
    "model.add(Dropout(0.5))\n",
    "model.add(BatchNormalization())\n",
    "model.add(LSTM(20, return_sequences=True, stateful=False))\n",
    "model.add(Dropout(0.5))\n",
    "model.add(BatchNormalization())\n",
    "model.add(Flatten())\n",
    "model.add(Dense(num_classes, activation='softmax'))\n",
    "\n",
    "# set loss function and optimizer\n",
    "model.compile(loss='categorical_crossentropy',\n",
    "              optimizer='adam',\n",
    "              metrics=['accuracy'])"
   ]
  },
  {
   "cell_type": "code",
   "execution_count": 44,
   "metadata": {},
   "outputs": [
    {
     "name": "stdout",
     "output_type": "stream",
     "text": [
      "Train on 2358 samples, validate on 100 samples\n",
      "Epoch 1/100\n",
      "2358/2358 [==============================] - 14s 6ms/step - loss: 1.8434 - acc: 0.2731 - val_loss: 1.3951 - val_acc: 0.2800\n",
      "Epoch 2/100\n",
      "2358/2358 [==============================] - 10s 4ms/step - loss: 1.6567 - acc: 0.3206 - val_loss: 1.3830 - val_acc: 0.3000\n",
      "Epoch 3/100\n",
      "2358/2358 [==============================] - 10s 4ms/step - loss: 1.5640 - acc: 0.3380 - val_loss: 1.3025 - val_acc: 0.3600\n",
      "Epoch 4/100\n",
      "2358/2358 [==============================] - 10s 4ms/step - loss: 1.4943 - acc: 0.3524 - val_loss: 1.2700 - val_acc: 0.3800\n",
      "Epoch 5/100\n",
      "2358/2358 [==============================] - 10s 4ms/step - loss: 1.4296 - acc: 0.3757 - val_loss: 1.3076 - val_acc: 0.3800\n",
      "Epoch 6/100\n",
      "2358/2358 [==============================] - 10s 4ms/step - loss: 1.3788 - acc: 0.3995 - val_loss: 1.2229 - val_acc: 0.4900\n",
      "Epoch 7/100\n",
      "2358/2358 [==============================] - 10s 4ms/step - loss: 1.3419 - acc: 0.4084 - val_loss: 1.2023 - val_acc: 0.4900\n",
      "Epoch 8/100\n",
      "2358/2358 [==============================] - 10s 4ms/step - loss: 1.3042 - acc: 0.4254 - val_loss: 1.1757 - val_acc: 0.5000\n",
      "Epoch 9/100\n",
      "2358/2358 [==============================] - 10s 4ms/step - loss: 1.2658 - acc: 0.4449 - val_loss: 1.1838 - val_acc: 0.5200\n",
      "Epoch 10/100\n",
      "2358/2358 [==============================] - 10s 4ms/step - loss: 1.2010 - acc: 0.4902 - val_loss: 1.1664 - val_acc: 0.5300\n",
      "Epoch 11/100\n",
      "2358/2358 [==============================] - 10s 4ms/step - loss: 1.1775 - acc: 0.4890 - val_loss: 1.1315 - val_acc: 0.5900\n",
      "Epoch 12/100\n",
      "2358/2358 [==============================] - 10s 4ms/step - loss: 1.1418 - acc: 0.4962 - val_loss: 1.1709 - val_acc: 0.5500\n",
      "Epoch 13/100\n",
      "2358/2358 [==============================] - 10s 4ms/step - loss: 1.1108 - acc: 0.5242 - val_loss: 1.1290 - val_acc: 0.6000\n",
      "Epoch 14/100\n",
      "2358/2358 [==============================] - 10s 4ms/step - loss: 1.1096 - acc: 0.5331 - val_loss: 1.1397 - val_acc: 0.5800\n",
      "Epoch 15/100\n",
      "2358/2358 [==============================] - 10s 4ms/step - loss: 1.0845 - acc: 0.5433 - val_loss: 1.1126 - val_acc: 0.6000\n",
      "Epoch 16/100\n",
      "2358/2358 [==============================] - 10s 4ms/step - loss: 1.0798 - acc: 0.5416 - val_loss: 1.1007 - val_acc: 0.5600\n",
      "Epoch 17/100\n",
      "2358/2358 [==============================] - 10s 4ms/step - loss: 1.0498 - acc: 0.5492 - val_loss: 1.1272 - val_acc: 0.4900\n",
      "Epoch 18/100\n",
      "2358/2358 [==============================] - 10s 4ms/step - loss: 1.0236 - acc: 0.5704 - val_loss: 1.0723 - val_acc: 0.5600\n",
      "Epoch 19/100\n",
      "2358/2358 [==============================] - 10s 4ms/step - loss: 0.9845 - acc: 0.5920 - val_loss: 1.0587 - val_acc: 0.5800\n",
      "Epoch 20/100\n",
      "2358/2358 [==============================] - 10s 4ms/step - loss: 0.9658 - acc: 0.6052 - val_loss: 1.1987 - val_acc: 0.4900\n",
      "Epoch 21/100\n",
      "2358/2358 [==============================] - 10s 4ms/step - loss: 0.9686 - acc: 0.5937 - val_loss: 1.0657 - val_acc: 0.5400\n",
      "Epoch 22/100\n",
      "2358/2358 [==============================] - 10s 4ms/step - loss: 0.9279 - acc: 0.6217 - val_loss: 1.0284 - val_acc: 0.6000\n",
      "Epoch 23/100\n",
      "2358/2358 [==============================] - 10s 4ms/step - loss: 0.9238 - acc: 0.6255 - val_loss: 1.0048 - val_acc: 0.6100\n",
      "Epoch 24/100\n",
      "2358/2358 [==============================] - 10s 4ms/step - loss: 0.9179 - acc: 0.6264 - val_loss: 1.0329 - val_acc: 0.5900\n",
      "Epoch 25/100\n",
      "2358/2358 [==============================] - 10s 4ms/step - loss: 0.8858 - acc: 0.6378 - val_loss: 1.0838 - val_acc: 0.5800\n",
      "Epoch 26/100\n",
      "2358/2358 [==============================] - 10s 4ms/step - loss: 0.8857 - acc: 0.6306 - val_loss: 0.9656 - val_acc: 0.5800\n",
      "Epoch 27/100\n",
      "2358/2358 [==============================] - 10s 4ms/step - loss: 0.8695 - acc: 0.6467 - val_loss: 0.9906 - val_acc: 0.6300\n",
      "Epoch 28/100\n",
      "2358/2358 [==============================] - 10s 4ms/step - loss: 0.8477 - acc: 0.6548 - val_loss: 1.0996 - val_acc: 0.5400\n",
      "Epoch 29/100\n",
      "2358/2358 [==============================] - 10s 4ms/step - loss: 0.8419 - acc: 0.6595 - val_loss: 0.9317 - val_acc: 0.6300\n",
      "Epoch 30/100\n",
      "2358/2358 [==============================] - 10s 4ms/step - loss: 0.8159 - acc: 0.6768 - val_loss: 0.9424 - val_acc: 0.6500\n",
      "Epoch 31/100\n",
      "2358/2358 [==============================] - 9s 4ms/step - loss: 0.8165 - acc: 0.6798 - val_loss: 0.9809 - val_acc: 0.6400\n",
      "Epoch 32/100\n",
      "2358/2358 [==============================] - 10s 4ms/step - loss: 0.7789 - acc: 0.6921 - val_loss: 0.9602 - val_acc: 0.6000\n",
      "Epoch 33/100\n",
      "2358/2358 [==============================] - 10s 4ms/step - loss: 0.7638 - acc: 0.7044 - val_loss: 0.9031 - val_acc: 0.6000\n",
      "Epoch 34/100\n",
      "2358/2358 [==============================] - 10s 4ms/step - loss: 0.7647 - acc: 0.6934 - val_loss: 0.9147 - val_acc: 0.6300\n",
      "Epoch 35/100\n",
      "2358/2358 [==============================] - 10s 4ms/step - loss: 0.7515 - acc: 0.7061 - val_loss: 0.9214 - val_acc: 0.6300\n",
      "Epoch 36/100\n",
      "2358/2358 [==============================] - 10s 4ms/step - loss: 0.7347 - acc: 0.7091 - val_loss: 0.8837 - val_acc: 0.6300\n",
      "Epoch 37/100\n",
      "2358/2358 [==============================] - 10s 4ms/step - loss: 0.7307 - acc: 0.7116 - val_loss: 0.9559 - val_acc: 0.6300\n",
      "Epoch 38/100\n",
      "2358/2358 [==============================] - 10s 4ms/step - loss: 0.7100 - acc: 0.7286 - val_loss: 0.8486 - val_acc: 0.6500\n",
      "Epoch 39/100\n",
      "2358/2358 [==============================] - 10s 4ms/step - loss: 0.6974 - acc: 0.7299 - val_loss: 0.8558 - val_acc: 0.6400\n",
      "Epoch 40/100\n",
      "2358/2358 [==============================] - 10s 4ms/step - loss: 0.6932 - acc: 0.7362 - val_loss: 0.9587 - val_acc: 0.6200\n",
      "Epoch 41/100\n",
      "2358/2358 [==============================] - 10s 4ms/step - loss: 0.6933 - acc: 0.7231 - val_loss: 0.7727 - val_acc: 0.7000\n",
      "Epoch 42/100\n",
      "2358/2358 [==============================] - 10s 4ms/step - loss: 0.6753 - acc: 0.7290 - val_loss: 0.8181 - val_acc: 0.6500\n",
      "Epoch 43/100\n",
      "2358/2358 [==============================] - 10s 4ms/step - loss: 0.6623 - acc: 0.7489 - val_loss: 0.8447 - val_acc: 0.6400\n",
      "Epoch 44/100\n",
      "2358/2358 [==============================] - 10s 4ms/step - loss: 0.6655 - acc: 0.7366 - val_loss: 0.8950 - val_acc: 0.6400\n",
      "Epoch 45/100\n",
      "2358/2358 [==============================] - 10s 4ms/step - loss: 0.6423 - acc: 0.7460 - val_loss: 1.0080 - val_acc: 0.5900\n",
      "Epoch 46/100\n",
      "2358/2358 [==============================] - 10s 4ms/step - loss: 0.6462 - acc: 0.7515 - val_loss: 0.9749 - val_acc: 0.5900\n",
      "Epoch 47/100\n",
      "2358/2358 [==============================] - 10s 4ms/step - loss: 0.6482 - acc: 0.7498 - val_loss: 0.9025 - val_acc: 0.6400\n",
      "Epoch 48/100\n",
      "2358/2358 [==============================] - 10s 4ms/step - loss: 0.6202 - acc: 0.7583 - val_loss: 0.8588 - val_acc: 0.6700\n",
      "Epoch 49/100\n",
      "2358/2358 [==============================] - 10s 4ms/step - loss: 0.6102 - acc: 0.7612 - val_loss: 0.8169 - val_acc: 0.6600\n",
      "Epoch 50/100\n",
      "2358/2358 [==============================] - 8s 3ms/step - loss: 0.5990 - acc: 0.7706 - val_loss: 1.0305 - val_acc: 0.5800\n",
      "Epoch 51/100\n",
      "2358/2358 [==============================] - 7s 3ms/step - loss: 0.6114 - acc: 0.7595 - val_loss: 1.0341 - val_acc: 0.5700\n",
      "Epoch 52/100\n",
      "2358/2358 [==============================] - 7s 3ms/step - loss: 0.5979 - acc: 0.7697 - val_loss: 1.0797 - val_acc: 0.5700\n",
      "Epoch 53/100\n",
      "2358/2358 [==============================] - 7s 3ms/step - loss: 0.5794 - acc: 0.7757 - val_loss: 0.8864 - val_acc: 0.6400\n",
      "Epoch 54/100\n",
      "2358/2358 [==============================] - 7s 3ms/step - loss: 0.5895 - acc: 0.7727 - val_loss: 0.9686 - val_acc: 0.6300\n",
      "Epoch 55/100\n",
      "2358/2358 [==============================] - 7s 3ms/step - loss: 0.5907 - acc: 0.7676 - val_loss: 0.9401 - val_acc: 0.6300\n",
      "Epoch 56/100\n",
      "2358/2358 [==============================] - 7s 3ms/step - loss: 0.5519 - acc: 0.7977 - val_loss: 1.0628 - val_acc: 0.6000\n",
      "Epoch 57/100\n",
      "2358/2358 [==============================] - 7s 3ms/step - loss: 0.5594 - acc: 0.7786 - val_loss: 0.9603 - val_acc: 0.6200\n",
      "Epoch 58/100\n",
      "2358/2358 [==============================] - 7s 3ms/step - loss: 0.5271 - acc: 0.8036 - val_loss: 0.9692 - val_acc: 0.6700\n",
      "Epoch 59/100\n",
      "2358/2358 [==============================] - 7s 3ms/step - loss: 0.5534 - acc: 0.7905 - val_loss: 0.9810 - val_acc: 0.6200\n",
      "Epoch 60/100\n"
     ]
    },
    {
     "name": "stdout",
     "output_type": "stream",
     "text": [
      "2358/2358 [==============================] - 7s 3ms/step - loss: 0.5108 - acc: 0.8011 - val_loss: 0.9435 - val_acc: 0.6500\n",
      "Epoch 61/100\n",
      "2358/2358 [==============================] - 7s 3ms/step - loss: 0.5262 - acc: 0.8015 - val_loss: 1.1060 - val_acc: 0.6000\n",
      "Epoch 62/100\n",
      "2358/2358 [==============================] - 7s 3ms/step - loss: 0.5261 - acc: 0.8028 - val_loss: 0.9311 - val_acc: 0.7000\n",
      "Epoch 63/100\n",
      "2358/2358 [==============================] - 7s 3ms/step - loss: 0.5064 - acc: 0.8104 - val_loss: 1.0439 - val_acc: 0.6300\n",
      "Epoch 64/100\n",
      "2358/2358 [==============================] - 7s 3ms/step - loss: 0.5138 - acc: 0.8003 - val_loss: 1.0012 - val_acc: 0.6500\n",
      "Epoch 65/100\n",
      "2358/2358 [==============================] - 7s 3ms/step - loss: 0.5157 - acc: 0.8066 - val_loss: 1.0159 - val_acc: 0.6200\n",
      "Epoch 66/100\n",
      "2358/2358 [==============================] - 7s 3ms/step - loss: 0.5133 - acc: 0.8079 - val_loss: 0.9254 - val_acc: 0.6400\n",
      "Epoch 67/100\n",
      "2358/2358 [==============================] - 7s 3ms/step - loss: 0.5124 - acc: 0.8109 - val_loss: 1.1782 - val_acc: 0.5800\n",
      "Epoch 68/100\n",
      "2358/2358 [==============================] - 7s 3ms/step - loss: 0.5027 - acc: 0.8159 - val_loss: 1.0552 - val_acc: 0.5800\n",
      "Epoch 69/100\n",
      "2358/2358 [==============================] - 7s 3ms/step - loss: 0.4773 - acc: 0.8134 - val_loss: 0.9834 - val_acc: 0.5900\n",
      "Epoch 70/100\n",
      "2358/2358 [==============================] - 7s 3ms/step - loss: 0.4827 - acc: 0.8083 - val_loss: 0.9784 - val_acc: 0.6400\n",
      "Epoch 71/100\n",
      "2358/2358 [==============================] - 7s 3ms/step - loss: 0.4689 - acc: 0.8219 - val_loss: 1.0881 - val_acc: 0.6200\n",
      "Epoch 72/100\n",
      "2358/2358 [==============================] - 7s 3ms/step - loss: 0.4672 - acc: 0.8172 - val_loss: 0.9155 - val_acc: 0.6400\n",
      "Epoch 73/100\n",
      "2358/2358 [==============================] - 7s 3ms/step - loss: 0.4775 - acc: 0.8278 - val_loss: 1.1695 - val_acc: 0.5400\n",
      "Epoch 74/100\n",
      "2358/2358 [==============================] - 7s 3ms/step - loss: 0.4548 - acc: 0.8202 - val_loss: 1.0313 - val_acc: 0.6600\n",
      "Epoch 75/100\n",
      "2358/2358 [==============================] - 7s 3ms/step - loss: 0.4551 - acc: 0.8261 - val_loss: 1.0284 - val_acc: 0.6000\n",
      "Epoch 76/100\n",
      "2358/2358 [==============================] - 8s 3ms/step - loss: 0.4618 - acc: 0.8287 - val_loss: 1.0541 - val_acc: 0.6300\n",
      "Epoch 77/100\n",
      "2358/2358 [==============================] - 7s 3ms/step - loss: 0.4218 - acc: 0.8338 - val_loss: 1.0897 - val_acc: 0.5800\n",
      "Epoch 78/100\n",
      "2358/2358 [==============================] - 7s 3ms/step - loss: 0.4386 - acc: 0.8355 - val_loss: 1.1089 - val_acc: 0.6100\n",
      "Epoch 79/100\n",
      "2358/2358 [==============================] - 7s 3ms/step - loss: 0.4291 - acc: 0.8405 - val_loss: 1.1281 - val_acc: 0.6100\n",
      "Epoch 80/100\n",
      "2358/2358 [==============================] - 7s 3ms/step - loss: 0.4169 - acc: 0.8469 - val_loss: 1.0848 - val_acc: 0.6000\n",
      "Epoch 81/100\n",
      "2358/2358 [==============================] - 7s 3ms/step - loss: 0.4317 - acc: 0.8380 - val_loss: 1.1096 - val_acc: 0.6500\n",
      "Epoch 82/100\n",
      "2358/2358 [==============================] - 8s 3ms/step - loss: 0.4139 - acc: 0.8405 - val_loss: 1.0417 - val_acc: 0.6300\n",
      "Epoch 83/100\n",
      "2358/2358 [==============================] - 7s 3ms/step - loss: 0.4145 - acc: 0.8486 - val_loss: 0.9385 - val_acc: 0.6500\n",
      "Epoch 84/100\n",
      "2358/2358 [==============================] - 7s 3ms/step - loss: 0.4534 - acc: 0.8261 - val_loss: 1.0323 - val_acc: 0.5900\n",
      "Epoch 85/100\n",
      "2358/2358 [==============================] - 7s 3ms/step - loss: 0.4056 - acc: 0.8418 - val_loss: 1.0210 - val_acc: 0.6300\n",
      "Epoch 86/100\n",
      "2358/2358 [==============================] - 7s 3ms/step - loss: 0.3952 - acc: 0.8478 - val_loss: 1.0700 - val_acc: 0.6000\n",
      "Epoch 87/100\n",
      "2358/2358 [==============================] - 7s 3ms/step - loss: 0.3999 - acc: 0.8469 - val_loss: 1.1958 - val_acc: 0.6400\n",
      "Epoch 88/100\n",
      "2358/2358 [==============================] - 7s 3ms/step - loss: 0.3601 - acc: 0.8723 - val_loss: 1.1882 - val_acc: 0.5300\n",
      "Epoch 89/100\n",
      "2358/2358 [==============================] - 5s 2ms/step - loss: 0.4076 - acc: 0.8473 - val_loss: 1.0511 - val_acc: 0.5700\n",
      "Epoch 90/100\n",
      "2358/2358 [==============================] - 5s 2ms/step - loss: 0.3875 - acc: 0.8613 - val_loss: 1.2564 - val_acc: 0.5500\n",
      "Epoch 91/100\n",
      "2358/2358 [==============================] - 5s 2ms/step - loss: 0.3772 - acc: 0.8630 - val_loss: 1.2677 - val_acc: 0.5900\n",
      "Epoch 92/100\n",
      "2358/2358 [==============================] - 5s 2ms/step - loss: 0.3897 - acc: 0.8482 - val_loss: 1.0834 - val_acc: 0.6000\n",
      "Epoch 93/100\n",
      "2358/2358 [==============================] - 5s 2ms/step - loss: 0.3909 - acc: 0.8516 - val_loss: 1.0293 - val_acc: 0.6200\n",
      "Epoch 94/100\n",
      "2358/2358 [==============================] - 5s 2ms/step - loss: 0.3441 - acc: 0.8728 - val_loss: 1.1779 - val_acc: 0.5500\n",
      "Epoch 95/100\n",
      "2358/2358 [==============================] - 5s 2ms/step - loss: 0.3745 - acc: 0.8562 - val_loss: 1.1368 - val_acc: 0.5700\n",
      "Epoch 96/100\n",
      "2358/2358 [==============================] - 5s 2ms/step - loss: 0.3513 - acc: 0.8664 - val_loss: 1.0140 - val_acc: 0.6700\n",
      "Epoch 97/100\n",
      "2358/2358 [==============================] - 5s 2ms/step - loss: 0.3512 - acc: 0.8702 - val_loss: 1.1487 - val_acc: 0.6500\n",
      "Epoch 98/100\n",
      "2358/2358 [==============================] - 5s 2ms/step - loss: 0.3451 - acc: 0.8766 - val_loss: 1.0894 - val_acc: 0.6400\n",
      "Epoch 99/100\n",
      "2358/2358 [==============================] - 5s 2ms/step - loss: 0.3419 - acc: 0.8673 - val_loss: 1.1721 - val_acc: 0.5700\n",
      "Epoch 100/100\n",
      "2358/2358 [==============================] - 5s 2ms/step - loss: 0.3211 - acc: 0.8779 - val_loss: 1.3115 - val_acc: 0.5800\n"
     ]
    }
   ],
   "source": [
    "# train the data with validation\n",
    "history = model.fit(X_train, y_train,\n",
    "                    batch_size=batch_size, \n",
    "                    epochs=num_epoch, \n",
    "                    shuffle=False,\n",
    "                    validation_data=(X_val, y_val))"
   ]
  },
  {
   "cell_type": "code",
   "execution_count": 45,
   "metadata": {},
   "outputs": [
    {
     "name": "stdout",
     "output_type": "stream",
     "text": [
      "dict_keys(['val_loss', 'val_acc', 'loss', 'acc'])\n"
     ]
    },
    {
     "data": {
      "image/png": "[encoded data removed]",
      "text/plain": [
       "<matplotlib.figure.Figure at 0x7f8c33224dd8>"
      ]
     },
     "metadata": {},
     "output_type": "display_data"
    },
    {
     "data": {
      "image/png": "[encoded data removed]",
      "text/plain": [
       "<matplotlib.figure.Figure at 0x7f8c32f426a0>"
      ]
     },
     "metadata": {},
     "output_type": "display_data"
    }
   ],
   "source": [
    "# list all data in history\n",
    "print(history.history.keys())\n",
    "\n",
    "# summarize history for accuracy\n",
    "plt.plot(history.history['acc'])\n",
    "plt.plot(history.history['val_acc'])\n",
    "plt.title('model accuracy')\n",
    "plt.ylabel('accuracy')\n",
    "plt.xlabel('epoch')\n",
    "plt.legend(['train', 'val'], loc='upper left')\n",
    "plt.show()\n",
    "\n",
    "# summarize history for loss\n",
    "plt.plot(history.history['loss'],'o')\n",
    "plt.plot(history.history['val_loss'],'o')\n",
    "plt.title('model loss')\n",
    "plt.ylabel('loss')\n",
    "plt.xlabel('epoch')\n",
    "plt.legend(['train', 'val'], loc='upper left')\n",
    "plt.show()"
   ]
  },
  {
   "cell_type": "code",
   "execution_count": 46,
   "metadata": {},
   "outputs": [
    {
     "name": "stdout",
     "output_type": "stream",
     "text": [
      "\r",
      "100/100 [==============================] - 0s 789us/step\n"
     ]
    },
    {
     "data": {
      "text/plain": [
       "[1.0601083040237427, 0.7099999785423279]"
      ]
     },
     "execution_count": 46,
     "metadata": {},
     "output_type": "execute_result"
    }
   ],
   "source": [
    "# test set\n",
    "model.evaluate(X_test,y_test,batch_size=N_test)"
   ]
  },
  {
   "cell_type": "code",
   "execution_count": null,
   "metadata": {},
   "outputs": [],
   "source": []
  }
 ],
 "metadata": {
  "kernelspec": {
   "display_name": "Python 3",
   "language": "python",
   "name": "python3"
  },
  "language_info": {
   "codemirror_mode": {
    "name": "ipython",
    "version": 3
   },
   "file_extension": ".py",
   "mimetype": "text/x-python",
   "name": "python",
   "nbconvert_exporter": "python",
   "pygments_lexer": "ipython3",
   "version": "3.6.3"
  }
 },
 "nbformat": 4,
 "nbformat_minor": 2
}
