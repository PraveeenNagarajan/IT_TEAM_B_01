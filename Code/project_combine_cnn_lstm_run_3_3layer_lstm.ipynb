{
 "cells": [
  {
   "cell_type": "markdown",
   "metadata": {},
   "source": [
    "This run has higher dropout, larger size lstm.\n",
    "\n",
    "This run has validation accuracy around 70%+\n",
    "\n",
    "From results shown, high dropout does contribute to regularization. Compared to the first run, validation accuracy doesn't improve, however the training history is less oscillatory."
   ]
  },
  {
   "cell_type": "code",
   "execution_count": 6,
   "metadata": {},
   "outputs": [],
   "source": [
    "from keras.models import Sequential\n",
    "from keras.layers import LSTM, Dense, Dropout, BatchNormalization\n",
    "from keras.layers import Conv1D, MaxPooling1D, Activation, Flatten\n",
    "from keras.utils import to_categorical\n",
    "import numpy as np\n",
    "import h5py\n",
    "import matplotlib.pyplot as plt\n",
    "from data_utils import get_data\n",
    "from sklearn import preprocessing\n"
   ]
  },
  {
   "cell_type": "code",
   "execution_count": 7,
   "metadata": {
    "scrolled": true
   },
   "outputs": [
    {
     "name": "stdout",
     "output_type": "stream",
     "text": [
      "X_train: (2358, 1000, 22) \n",
      "y_train: (2358,) \n",
      "X_val: (100, 1000, 22) \n",
      "y_val: (100,) \n",
      "X_test: (100, 1000, 22) \n",
      "y_test: (100,) \n"
     ]
    }
   ],
   "source": [
    "# Load data from all .mat files, combine them, eliminate EOG signals, shuffle and \n",
    "# seperate training data, validation data and testing data.\n",
    "# Also do mean subtraction on x.\n",
    "\n",
    "data = get_data('../project_datasets',num_validation=100, num_test=100, subtract_mean=True, subtract_axis=1,\n",
    "                transpose=True)\n",
    "for k in data.keys():\n",
    "    print('{}: {} '.format(k, data[k].shape))"
   ]
  },
  {
   "cell_type": "code",
   "execution_count": 8,
   "metadata": {},
   "outputs": [],
   "source": [
    "num_classes = 4\n",
    "\n",
    "# substract data from list\n",
    "X_train = data.get('X_train')\n",
    "y_train = data.get('y_train')\n",
    "X_val = data.get('X_val')\n",
    "y_val = data.get('y_val')\n",
    "X_test = data.get('X_test')\n",
    "y_test = data.get('y_test')\n",
    "\n",
    "# get data dimension\n",
    "N_train, T_train, C_train = data.get('X_train').shape\n",
    "N_val, T_val, C_val = data.get('X_val').shape\n",
    "N_test, T_test, C_test = data.get('X_test').shape\n",
    "\n",
    "# add dummy zeros for y classification, convert class vectors to binary class matrices.\n",
    "y_train = to_categorical(y_train, num_classes)\n",
    "y_val = to_categorical(y_val, num_classes)\n",
    "y_test = to_categorical(y_test, num_classes)"
   ]
  },
  {
   "cell_type": "code",
   "execution_count": 9,
   "metadata": {},
   "outputs": [
    {
     "name": "stdout",
     "output_type": "stream",
     "text": [
      "X_train:  (2358, 1000, 22)\n",
      "y_train:  (2358, 4)\n",
      "X_val:  (100, 1000, 22)\n",
      "y_val:  (100, 4)\n",
      "X_test:  (100, 1000, 22)\n",
      "y_test:  (100, 4)\n"
     ]
    }
   ],
   "source": [
    "# construct X_total and y_total based on sub-sampling of X_train and y_train\n",
    "\n",
    "# take sub-sampling on the time sequence to reduce dimension for RNN\n",
    "sampling = 1\n",
    "\n",
    "X_train = X_train.reshape(N_train,int(T_train/sampling), sampling, C_train)[:,:,0,:]\n",
    "X_val = X_val.reshape(N_val,int(T_val/sampling), sampling, C_val)[:,:,0,:]\n",
    "X_test = X_test.reshape(N_test,int(T_test/sampling), sampling, C_test)[:,:,0,:]\n",
    "\n",
    "# get new data dimension\n",
    "N_train, T_train, C_train = X_train.shape\n",
    "N_val, T_val, C_val = X_val.shape\n",
    "N_test, T_test, C_test = X_test.shape\n",
    "\n",
    "print('X_train: ', X_train.shape)\n",
    "print('y_train: ', y_train.shape)\n",
    "print('X_val: ', X_val.shape)\n",
    "print('y_val: ', y_val.shape)\n",
    "print('X_test: ', X_test.shape)\n",
    "print('y_test: ', y_test.shape)"
   ]
  },
  {
   "cell_type": "code",
   "execution_count": 10,
   "metadata": {},
   "outputs": [
    {
     "name": "stdout",
     "output_type": "stream",
     "text": [
      "WARNING:tensorflow:From /mnt/g/Course/2017-2018_4th_year/2018_winter/ECE_239AS/Project/.env4/lib/python3.6/site-packages/tensorflow/python/util/deprecation.py:497: calling conv1d (from tensorflow.python.ops.nn_ops) with data_format=NHWC is deprecated and will be removed in a future version.\n",
      "Instructions for updating:\n",
      "`NHWC` for data_format is deprecated, use `NWC` instead\n"
     ]
    }
   ],
   "source": [
    "# Expected input batch shape: (batch_size, timesteps, data_dim)\n",
    "# Note that we have to provide the full batch_input_shape since the network is stateful.\n",
    "# the sample of index i in batch k is the follow-up for the sample i in batch k-1.\n",
    "\n",
    "# perhaps should try masking layer\n",
    "\n",
    "data_dim = C_train\n",
    "timesteps = T_train\n",
    "batch_size = 100\n",
    "num_epoch = 100\n",
    "\n",
    "# make a sequential model\n",
    "model = Sequential()\n",
    "\n",
    "# add 1-layer cnn\n",
    "model.add(Conv1D(40, kernel_size=20, strides=4,\n",
    "          input_shape=(timesteps, data_dim)))\n",
    "model.add(Activation('relu'))\n",
    "model.add(Dropout(0.5))\n",
    "model.add(BatchNormalization())\n",
    "model.add(MaxPooling1D(pool_size=4, strides=4))\n",
    "\n",
    "\n",
    "# add 3-layer lstm\n",
    "model.add(LSTM(25, return_sequences=True, stateful=False))\n",
    "model.add(Dropout(0.5))\n",
    "model.add(BatchNormalization())\n",
    "model.add(LSTM(15, return_sequences=True, stateful=False))\n",
    "model.add(Dropout(0.5))\n",
    "model.add(BatchNormalization())\n",
    "model.add(LSTM(10, return_sequences=True, stateful=False))\n",
    "model.add(Dropout(0.5))\n",
    "model.add(BatchNormalization())\n",
    "model.add(Flatten())\n",
    "model.add(Dense(num_classes, activation='softmax'))\n",
    "\n",
    "# set loss function and optimizer\n",
    "model.compile(loss='categorical_crossentropy',\n",
    "              optimizer='adam',\n",
    "              metrics=['accuracy'])"
   ]
  },
  {
   "cell_type": "code",
   "execution_count": 11,
   "metadata": {},
   "outputs": [
    {
     "name": "stdout",
     "output_type": "stream",
     "text": [
      "Train on 2358 samples, validate on 100 samples\n",
      "Epoch 1/100\n",
      "2358/2358 [==============================] - 13s 5ms/step - loss: 1.8654 - acc: 0.2502 - val_loss: 1.4733 - val_acc: 0.3200\n",
      "Epoch 2/100\n",
      "2358/2358 [==============================] - 10s 4ms/step - loss: 1.7248 - acc: 0.2591 - val_loss: 1.3866 - val_acc: 0.3100\n",
      "Epoch 3/100\n",
      "2358/2358 [==============================] - 10s 4ms/step - loss: 1.6107 - acc: 0.2943 - val_loss: 1.3366 - val_acc: 0.3600\n",
      "Epoch 4/100\n",
      "2358/2358 [==============================] - 10s 4ms/step - loss: 1.5563 - acc: 0.3155 - val_loss: 1.3114 - val_acc: 0.3800\n",
      "Epoch 5/100\n",
      "2358/2358 [==============================] - 10s 4ms/step - loss: 1.5096 - acc: 0.3223 - val_loss: 1.2993 - val_acc: 0.4100\n",
      "Epoch 6/100\n",
      "2358/2358 [==============================] - 10s 4ms/step - loss: 1.4558 - acc: 0.3261 - val_loss: 1.2730 - val_acc: 0.4400\n",
      "Epoch 7/100\n",
      "2358/2358 [==============================] - 10s 4ms/step - loss: 1.4218 - acc: 0.3448 - val_loss: 1.2624 - val_acc: 0.4300\n",
      "Epoch 8/100\n",
      "2358/2358 [==============================] - 10s 4ms/step - loss: 1.3796 - acc: 0.3715 - val_loss: 1.2777 - val_acc: 0.4300\n",
      "Epoch 9/100\n",
      "2358/2358 [==============================] - 9s 4ms/step - loss: 1.3573 - acc: 0.3846 - val_loss: 1.2700 - val_acc: 0.4300\n",
      "Epoch 10/100\n",
      "2358/2358 [==============================] - 10s 4ms/step - loss: 1.3063 - acc: 0.4059 - val_loss: 1.2867 - val_acc: 0.4700\n",
      "Epoch 11/100\n",
      "2358/2358 [==============================] - 10s 4ms/step - loss: 1.2706 - acc: 0.4254 - val_loss: 1.3071 - val_acc: 0.4800\n",
      "Epoch 12/100\n",
      "2358/2358 [==============================] - 10s 4ms/step - loss: 1.2643 - acc: 0.4351 - val_loss: 1.2792 - val_acc: 0.4400\n",
      "Epoch 13/100\n",
      "2358/2358 [==============================] - 10s 4ms/step - loss: 1.2322 - acc: 0.4487 - val_loss: 1.2911 - val_acc: 0.4200\n",
      "Epoch 14/100\n",
      "2358/2358 [==============================] - 9s 4ms/step - loss: 1.2190 - acc: 0.4597 - val_loss: 1.2387 - val_acc: 0.4900\n",
      "Epoch 15/100\n",
      "2358/2358 [==============================] - 5s 2ms/step - loss: 1.1982 - acc: 0.4682 - val_loss: 1.2462 - val_acc: 0.5200\n",
      "Epoch 16/100\n",
      "2358/2358 [==============================] - 5s 2ms/step - loss: 1.1760 - acc: 0.4754 - val_loss: 1.2437 - val_acc: 0.5300\n",
      "Epoch 17/100\n",
      "2358/2358 [==============================] - 5s 2ms/step - loss: 1.1328 - acc: 0.5068 - val_loss: 1.2407 - val_acc: 0.5300\n",
      "Epoch 18/100\n",
      "2358/2358 [==============================] - 5s 2ms/step - loss: 1.1375 - acc: 0.5221 - val_loss: 1.2519 - val_acc: 0.4700\n",
      "Epoch 19/100\n",
      "2358/2358 [==============================] - 5s 2ms/step - loss: 1.1385 - acc: 0.5110 - val_loss: 1.2010 - val_acc: 0.5300\n",
      "Epoch 20/100\n",
      "2358/2358 [==============================] - 5s 2ms/step - loss: 1.1197 - acc: 0.5216 - val_loss: 1.2529 - val_acc: 0.5300\n",
      "Epoch 21/100\n",
      "2358/2358 [==============================] - 5s 2ms/step - loss: 1.0849 - acc: 0.5390 - val_loss: 1.2212 - val_acc: 0.4700\n",
      "Epoch 22/100\n",
      "2358/2358 [==============================] - 5s 2ms/step - loss: 1.0906 - acc: 0.5500 - val_loss: 1.1570 - val_acc: 0.5200\n",
      "Epoch 23/100\n",
      "2358/2358 [==============================] - 5s 2ms/step - loss: 1.0738 - acc: 0.5526 - val_loss: 1.1763 - val_acc: 0.5600\n",
      "Epoch 24/100\n",
      "2358/2358 [==============================] - 5s 2ms/step - loss: 1.0649 - acc: 0.5615 - val_loss: 1.1056 - val_acc: 0.5200\n",
      "Epoch 25/100\n",
      "2358/2358 [==============================] - 5s 2ms/step - loss: 1.0340 - acc: 0.5700 - val_loss: 1.0800 - val_acc: 0.5600\n",
      "Epoch 26/100\n",
      "2358/2358 [==============================] - 5s 2ms/step - loss: 0.9966 - acc: 0.5865 - val_loss: 1.1054 - val_acc: 0.5000\n",
      "Epoch 27/100\n",
      "2358/2358 [==============================] - 5s 2ms/step - loss: 1.0262 - acc: 0.5857 - val_loss: 1.0607 - val_acc: 0.5200\n",
      "Epoch 28/100\n",
      "2358/2358 [==============================] - 5s 2ms/step - loss: 1.0054 - acc: 0.5831 - val_loss: 1.0991 - val_acc: 0.5300\n",
      "Epoch 29/100\n",
      "2358/2358 [==============================] - 5s 2ms/step - loss: 0.9878 - acc: 0.5874 - val_loss: 1.0623 - val_acc: 0.5500\n",
      "Epoch 30/100\n",
      "2358/2358 [==============================] - 5s 2ms/step - loss: 0.9631 - acc: 0.6056 - val_loss: 1.1208 - val_acc: 0.5300\n",
      "Epoch 31/100\n",
      "2358/2358 [==============================] - 5s 2ms/step - loss: 0.9613 - acc: 0.6175 - val_loss: 1.0943 - val_acc: 0.5200\n",
      "Epoch 32/100\n",
      "2358/2358 [==============================] - 5s 2ms/step - loss: 0.9740 - acc: 0.6039 - val_loss: 1.0576 - val_acc: 0.5200\n",
      "Epoch 33/100\n",
      "2358/2358 [==============================] - 5s 2ms/step - loss: 0.9400 - acc: 0.6086 - val_loss: 1.1155 - val_acc: 0.4500\n",
      "Epoch 34/100\n",
      "2358/2358 [==============================] - 5s 2ms/step - loss: 0.9148 - acc: 0.6268 - val_loss: 1.0579 - val_acc: 0.5100\n",
      "Epoch 35/100\n",
      "2358/2358 [==============================] - 5s 2ms/step - loss: 0.9155 - acc: 0.6238 - val_loss: 1.0847 - val_acc: 0.4600\n",
      "Epoch 36/100\n",
      "2358/2358 [==============================] - 5s 2ms/step - loss: 0.9102 - acc: 0.6374 - val_loss: 1.0045 - val_acc: 0.5300\n",
      "Epoch 37/100\n",
      "2358/2358 [==============================] - 5s 2ms/step - loss: 0.9086 - acc: 0.6293 - val_loss: 1.0820 - val_acc: 0.5200\n",
      "Epoch 38/100\n",
      "2358/2358 [==============================] - 5s 2ms/step - loss: 0.8727 - acc: 0.6527 - val_loss: 1.0293 - val_acc: 0.5300\n",
      "Epoch 39/100\n",
      "2358/2358 [==============================] - 5s 2ms/step - loss: 0.8823 - acc: 0.6527 - val_loss: 1.1038 - val_acc: 0.4900\n",
      "Epoch 40/100\n",
      "2358/2358 [==============================] - 5s 2ms/step - loss: 0.8658 - acc: 0.6590 - val_loss: 1.2096 - val_acc: 0.4900\n",
      "Epoch 41/100\n",
      "2358/2358 [==============================] - 5s 2ms/step - loss: 0.8531 - acc: 0.6667 - val_loss: 1.0272 - val_acc: 0.5600\n",
      "Epoch 42/100\n",
      "2358/2358 [==============================] - 5s 2ms/step - loss: 0.8564 - acc: 0.6616 - val_loss: 1.0808 - val_acc: 0.5500\n",
      "Epoch 43/100\n",
      "2358/2358 [==============================] - 5s 2ms/step - loss: 0.8519 - acc: 0.6637 - val_loss: 1.0365 - val_acc: 0.5400\n",
      "Epoch 44/100\n",
      "2358/2358 [==============================] - 5s 2ms/step - loss: 0.8497 - acc: 0.6595 - val_loss: 0.9462 - val_acc: 0.5700\n",
      "Epoch 45/100\n",
      "2358/2358 [==============================] - 5s 2ms/step - loss: 0.8474 - acc: 0.6671 - val_loss: 1.0637 - val_acc: 0.5300\n",
      "Epoch 46/100\n",
      "2358/2358 [==============================] - 5s 2ms/step - loss: 0.8196 - acc: 0.6828 - val_loss: 1.0892 - val_acc: 0.5000\n",
      "Epoch 47/100\n",
      "2358/2358 [==============================] - 5s 2ms/step - loss: 0.7934 - acc: 0.6879 - val_loss: 1.1199 - val_acc: 0.5200\n",
      "Epoch 48/100\n",
      "2358/2358 [==============================] - 5s 2ms/step - loss: 0.8118 - acc: 0.6760 - val_loss: 1.0147 - val_acc: 0.5400\n",
      "Epoch 49/100\n",
      "2358/2358 [==============================] - 5s 2ms/step - loss: 0.7979 - acc: 0.6836 - val_loss: 1.1749 - val_acc: 0.5100\n",
      "Epoch 50/100\n",
      "2358/2358 [==============================] - 5s 2ms/step - loss: 0.8013 - acc: 0.6930 - val_loss: 0.9471 - val_acc: 0.5500\n",
      "Epoch 51/100\n",
      "2358/2358 [==============================] - 5s 2ms/step - loss: 0.8009 - acc: 0.6900 - val_loss: 0.9171 - val_acc: 0.6000\n",
      "Epoch 52/100\n",
      "2358/2358 [==============================] - 5s 2ms/step - loss: 0.7698 - acc: 0.6951 - val_loss: 0.9744 - val_acc: 0.6000\n",
      "Epoch 53/100\n",
      "2358/2358 [==============================] - 5s 2ms/step - loss: 0.7810 - acc: 0.6989 - val_loss: 1.0418 - val_acc: 0.5600\n",
      "Epoch 54/100\n",
      "2358/2358 [==============================] - 5s 2ms/step - loss: 0.7521 - acc: 0.7057 - val_loss: 0.9849 - val_acc: 0.5400\n",
      "Epoch 55/100\n",
      "2358/2358 [==============================] - 5s 2ms/step - loss: 0.7550 - acc: 0.7188 - val_loss: 1.1032 - val_acc: 0.5200\n",
      "Epoch 56/100\n",
      "2358/2358 [==============================] - 5s 2ms/step - loss: 0.7512 - acc: 0.7082 - val_loss: 1.0699 - val_acc: 0.5100\n",
      "Epoch 57/100\n",
      "2358/2358 [==============================] - 5s 2ms/step - loss: 0.7376 - acc: 0.7159 - val_loss: 1.0825 - val_acc: 0.5200\n",
      "Epoch 58/100\n",
      "2358/2358 [==============================] - 5s 2ms/step - loss: 0.7501 - acc: 0.6993 - val_loss: 1.1037 - val_acc: 0.5300\n",
      "Epoch 59/100\n",
      "2358/2358 [==============================] - 5s 2ms/step - loss: 0.6931 - acc: 0.7345 - val_loss: 0.9698 - val_acc: 0.5700\n",
      "Epoch 60/100\n",
      "2358/2358 [==============================] - 5s 2ms/step - loss: 0.7193 - acc: 0.7277 - val_loss: 1.2778 - val_acc: 0.4800\n"
     ]
    },
    {
     "name": "stdout",
     "output_type": "stream",
     "text": [
      "Epoch 61/100\n",
      "2358/2358 [==============================] - 5s 2ms/step - loss: 0.7112 - acc: 0.7214 - val_loss: 1.0820 - val_acc: 0.5200\n",
      "Epoch 62/100\n",
      "2358/2358 [==============================] - 5s 2ms/step - loss: 0.7220 - acc: 0.7248 - val_loss: 1.1688 - val_acc: 0.5600\n",
      "Epoch 63/100\n",
      "2358/2358 [==============================] - 5s 2ms/step - loss: 0.6923 - acc: 0.7405 - val_loss: 0.9764 - val_acc: 0.5800\n",
      "Epoch 64/100\n",
      "2358/2358 [==============================] - 5s 2ms/step - loss: 0.7037 - acc: 0.7286 - val_loss: 1.1451 - val_acc: 0.5000\n",
      "Epoch 65/100\n",
      "2358/2358 [==============================] - 5s 2ms/step - loss: 0.6753 - acc: 0.7383 - val_loss: 1.1723 - val_acc: 0.4900\n",
      "Epoch 66/100\n",
      "2358/2358 [==============================] - 5s 2ms/step - loss: 0.6728 - acc: 0.7434 - val_loss: 0.9965 - val_acc: 0.5300\n",
      "Epoch 67/100\n",
      "2358/2358 [==============================] - 5s 2ms/step - loss: 0.6660 - acc: 0.7523 - val_loss: 0.9614 - val_acc: 0.5900\n",
      "Epoch 68/100\n",
      "2358/2358 [==============================] - 5s 2ms/step - loss: 0.6815 - acc: 0.7464 - val_loss: 1.0662 - val_acc: 0.5600\n",
      "Epoch 69/100\n",
      "2358/2358 [==============================] - 5s 2ms/step - loss: 0.6650 - acc: 0.7447 - val_loss: 1.1957 - val_acc: 0.5000\n",
      "Epoch 70/100\n",
      "2358/2358 [==============================] - 5s 2ms/step - loss: 0.6768 - acc: 0.7392 - val_loss: 1.0611 - val_acc: 0.5400\n",
      "Epoch 71/100\n",
      "2358/2358 [==============================] - 5s 2ms/step - loss: 0.6562 - acc: 0.7468 - val_loss: 0.9269 - val_acc: 0.6500\n",
      "Epoch 72/100\n",
      "2358/2358 [==============================] - 5s 2ms/step - loss: 0.6551 - acc: 0.7570 - val_loss: 1.0930 - val_acc: 0.5200\n",
      "Epoch 73/100\n",
      "2358/2358 [==============================] - 5s 2ms/step - loss: 0.6249 - acc: 0.7561 - val_loss: 1.2522 - val_acc: 0.5100\n",
      "Epoch 74/100\n",
      "2358/2358 [==============================] - 5s 2ms/step - loss: 0.6284 - acc: 0.7642 - val_loss: 1.1662 - val_acc: 0.5400\n",
      "Epoch 75/100\n",
      "2358/2358 [==============================] - 5s 2ms/step - loss: 0.6320 - acc: 0.7485 - val_loss: 1.2083 - val_acc: 0.5200\n",
      "Epoch 76/100\n",
      "2358/2358 [==============================] - 5s 2ms/step - loss: 0.6118 - acc: 0.7727 - val_loss: 1.0137 - val_acc: 0.6200\n",
      "Epoch 77/100\n",
      "2358/2358 [==============================] - 5s 2ms/step - loss: 0.6212 - acc: 0.7625 - val_loss: 1.0711 - val_acc: 0.5300\n",
      "Epoch 78/100\n",
      "2358/2358 [==============================] - 5s 2ms/step - loss: 0.6049 - acc: 0.7684 - val_loss: 1.1042 - val_acc: 0.5400\n",
      "Epoch 79/100\n",
      "2358/2358 [==============================] - 5s 2ms/step - loss: 0.5629 - acc: 0.7867 - val_loss: 1.1061 - val_acc: 0.5800\n",
      "Epoch 80/100\n",
      "2358/2358 [==============================] - 5s 2ms/step - loss: 0.6154 - acc: 0.7595 - val_loss: 1.3740 - val_acc: 0.4800\n",
      "Epoch 81/100\n",
      "2358/2358 [==============================] - 5s 2ms/step - loss: 0.6013 - acc: 0.7659 - val_loss: 0.9986 - val_acc: 0.5800\n",
      "Epoch 82/100\n",
      "2358/2358 [==============================] - 5s 2ms/step - loss: 0.5962 - acc: 0.7786 - val_loss: 1.2205 - val_acc: 0.5700\n",
      "Epoch 83/100\n",
      "2358/2358 [==============================] - 5s 2ms/step - loss: 0.6348 - acc: 0.7477 - val_loss: 1.1107 - val_acc: 0.5500\n",
      "Epoch 84/100\n",
      "2358/2358 [==============================] - 5s 2ms/step - loss: 0.5891 - acc: 0.7735 - val_loss: 1.2356 - val_acc: 0.5200\n",
      "Epoch 85/100\n",
      "2358/2358 [==============================] - 5s 2ms/step - loss: 0.5815 - acc: 0.7748 - val_loss: 1.2299 - val_acc: 0.5500\n",
      "Epoch 86/100\n",
      "2358/2358 [==============================] - 5s 2ms/step - loss: 0.5615 - acc: 0.7901 - val_loss: 1.5159 - val_acc: 0.4800\n",
      "Epoch 87/100\n",
      "2358/2358 [==============================] - 5s 2ms/step - loss: 0.5818 - acc: 0.7803 - val_loss: 1.3825 - val_acc: 0.5000\n",
      "Epoch 88/100\n",
      "2358/2358 [==============================] - 5s 2ms/step - loss: 0.5654 - acc: 0.7807 - val_loss: 1.3044 - val_acc: 0.5000\n",
      "Epoch 89/100\n",
      "2358/2358 [==============================] - 5s 2ms/step - loss: 0.5518 - acc: 0.7892 - val_loss: 1.3991 - val_acc: 0.5000\n",
      "Epoch 90/100\n",
      "2358/2358 [==============================] - 5s 2ms/step - loss: 0.5451 - acc: 0.7918 - val_loss: 1.1783 - val_acc: 0.5300\n",
      "Epoch 91/100\n",
      "2358/2358 [==============================] - 5s 2ms/step - loss: 0.5665 - acc: 0.7833 - val_loss: 1.1661 - val_acc: 0.5300\n",
      "Epoch 92/100\n",
      "2358/2358 [==============================] - 5s 2ms/step - loss: 0.5509 - acc: 0.7846 - val_loss: 1.2214 - val_acc: 0.5500\n",
      "Epoch 93/100\n",
      "2358/2358 [==============================] - 5s 2ms/step - loss: 0.5348 - acc: 0.7964 - val_loss: 1.0987 - val_acc: 0.5800\n",
      "Epoch 94/100\n",
      "2358/2358 [==============================] - 5s 2ms/step - loss: 0.5437 - acc: 0.7863 - val_loss: 1.1638 - val_acc: 0.5600\n",
      "Epoch 95/100\n",
      "2358/2358 [==============================] - 5s 2ms/step - loss: 0.5209 - acc: 0.8032 - val_loss: 1.1314 - val_acc: 0.5400\n",
      "Epoch 96/100\n",
      "2358/2358 [==============================] - 5s 2ms/step - loss: 0.5518 - acc: 0.7888 - val_loss: 1.2070 - val_acc: 0.5200\n",
      "Epoch 97/100\n",
      "2358/2358 [==============================] - 6s 2ms/step - loss: 0.5481 - acc: 0.7952 - val_loss: 1.4302 - val_acc: 0.5100\n",
      "Epoch 98/100\n",
      "2358/2358 [==============================] - 5s 2ms/step - loss: 0.5321 - acc: 0.7837 - val_loss: 1.3804 - val_acc: 0.5100\n",
      "Epoch 99/100\n",
      "2358/2358 [==============================] - 5s 2ms/step - loss: 0.5162 - acc: 0.8079 - val_loss: 1.2268 - val_acc: 0.5000\n",
      "Epoch 100/100\n",
      "2358/2358 [==============================] - 5s 2ms/step - loss: 0.5073 - acc: 0.8066 - val_loss: 1.2224 - val_acc: 0.5100\n"
     ]
    }
   ],
   "source": [
    "# train the data with validation\n",
    "history = model.fit(X_train, y_train,\n",
    "                    batch_size=batch_size, \n",
    "                    epochs=num_epoch, \n",
    "                    shuffle=False,\n",
    "                    validation_data=(X_val, y_val))"
   ]
  },
  {
   "cell_type": "code",
   "execution_count": 12,
   "metadata": {},
   "outputs": [
    {
     "name": "stdout",
     "output_type": "stream",
     "text": [
      "dict_keys(['val_loss', 'val_acc', 'loss', 'acc'])\n"
     ]
    },
    {
     "data": {
      "image/png": "[encoded data removed]",
      "text/plain": [
       "<matplotlib.figure.Figure at 0x7f85b9e20f28>"
      ]
     },
     "metadata": {},
     "output_type": "display_data"
    },
    {
     "data": {
      "image/png": "[encoded data removed]",
      "text/plain": [
       "<matplotlib.figure.Figure at 0x7f85b421f470>"
      ]
     },
     "metadata": {},
     "output_type": "display_data"
    }
   ],
   "source": [
    "# list all data in history\n",
    "print(history.history.keys())\n",
    "\n",
    "# summarize history for accuracy\n",
    "plt.plot(history.history['acc'])\n",
    "plt.plot(history.history['val_acc'])\n",
    "plt.title('model accuracy')\n",
    "plt.ylabel('accuracy')\n",
    "plt.xlabel('epoch')\n",
    "plt.legend(['train', 'val'], loc='upper left')\n",
    "plt.show()\n",
    "\n",
    "# summarize history for loss\n",
    "plt.plot(history.history['loss'],'o')\n",
    "plt.plot(history.history['val_loss'],'o')\n",
    "plt.title('model loss')\n",
    "plt.ylabel('loss')\n",
    "plt.xlabel('epoch')\n",
    "plt.legend(['train', 'val'], loc='upper left')\n",
    "plt.show()"
   ]
  },
  {
   "cell_type": "code",
   "execution_count": 13,
   "metadata": {},
   "outputs": [
    {
     "name": "stdout",
     "output_type": "stream",
     "text": [
      "\r",
      "100/100 [==============================] - 0s 1ms/step\n"
     ]
    },
    {
     "data": {
      "text/plain": [
       "[0.937847375869751, 0.699999988079071]"
      ]
     },
     "execution_count": 13,
     "metadata": {},
     "output_type": "execute_result"
    }
   ],
   "source": [
    "# test set\n",
    "model.evaluate(X_test,y_test,batch_size=N_test)"
   ]
  },
  {
   "cell_type": "code",
   "execution_count": null,
   "metadata": {},
   "outputs": [],
   "source": []
  }
 ],
 "metadata": {
  "kernelspec": {
   "display_name": "Python 3",
   "language": "python",
   "name": "python3"
  },
  "language_info": {
   "codemirror_mode": {
    "name": "ipython",
    "version": 3
   },
   "file_extension": ".py",
   "mimetype": "text/x-python",
   "name": "python",
   "nbconvert_exporter": "python",
   "pygments_lexer": "ipython3",
   "version": "3.6.3"
  }
 },
 "nbformat": 4,
 "nbformat_minor": 2
}
